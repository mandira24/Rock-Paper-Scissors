from tkinter import *
from PIL import ImageTk, Image
import random
root=Tk()
root.title("RPS")

rock=ImageTk.PhotoImage(Image.open(r"C:\Users\MANDIRA\Desktop\New folder\rock.png"))
paper=ImageTk.PhotoImage(Image.open(r"C:\Users\MANDIRA\Desktop\New folder\paper.png"))
scissors=ImageTk.PhotoImage(Image.open(r"C:\Users\MANDIRA\Desktop\New folder\scissors.png"))

imglist=[rock,paper,scissors]

comp_choice=random.randint(0,2)

#for putting the image in the screen 
lbl=Label(image=imglist[comp_choice])
lbl.grid()



def select(num):
    global imglist
    global lbl
    global pri
    global comp_choice
    
    #computer choice
    comp_choice=random.randint(0, 2) 
    lbl.config(image=imglist[comp_choice])
    
    
    
    if num=="rock":
        n=0
    elif num== "paper":
        n=1
    else:
        n=2
        
  
    
    
    if n==0:
        if comp_choice==0:
            pri.grid_forget()
            pri=Label(root,text="Its a tie")
            pri.grid()
        if comp_choice==1:
            pri.grid_forget()
            pri=Label(root,text="YOU LOOSE.paper covers rock.opponent clicked paper")
            pri.grid()
        if comp_choice==2:
            pri.grid_forget()
            pri=Label(root,text="YOU WIN.Rock smashes scissors.opponent clicked scissors")
            pri.grid()
    if n==1:
        if comp_choice==0:
            pri.grid_forget()
            pri=Label(root,text="YOU WIN.paper covers rock .opponent clicked rock")
            pri.grid()
        if comp_choice==1:
            pri.grid_forget()
            pri=Label(root,text="Its a tie")
            pri.grid()
        if comp_choice==2:
            pri.grid_forget()
            pri=Label(root,text="YOU LOOSE.scissors cut paper. opponent clicked scissors")
            pri.grid()    
        
    if n==2:
        if comp_choice==0:
            pri.grid_forget()
            pri=Label(root,text="YOU LOOSE.Rock smashes scissors.opponent clicked Rock")
            pri.grid()
        if comp_choice==1:
            pri.grid_forget()
            pri=Label(root,text="YOU WIN.scissors cut paper. opponent clicked paper.")
            pri.grid()
        if comp_choice==2:
            pri.grid_forget()
            pri=Label(root,text="Its a tie")
            pri.grid()



#user input            
user_choice=StringVar()
user_choice.set("rock")
drop=OptionMenu(root,user_choice,"rock","paper","scissors")
drop.grid()

#for the spin button
button=Button(root,text="spin",command=lambda:select(user_choice.get())).grid()

#for the text
pri=Label(root,text="play")
pri.grid()


root.mainloop()
